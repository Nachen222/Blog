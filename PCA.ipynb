{
 "cells": [
  {
   "cell_type": "markdown",
   "metadata": {},
   "source": [
    "PCA的步骤：\n",
    "    １、对数据进行归一化处理\n",
    "    ２、计算归一化后的数据集的协方差矩阵\n",
    "    ３、计算协方差矩阵的特征值和特征向量\n",
    "    ４、保留最重要的ｋ个特征\n",
    "    5、找出ｋ个特征对应的特征向量\n",
    "    6、将m * n的数据集乘以k个n维的特征向量(n * k),最后得到降维数据\n",
    "实质就是对角化方差矩阵\n",
    "对一个n∗n的对称矩阵进行分解，我们可以求出它的特征值和特征向量，就会产生n个n维的正交基，每个正交基会对应一个特征值。然后把矩阵投影到这n个基上，此时特征值的模就表示矩阵在该基的投影长度。\n",
    "特征值越大，说明矩阵（样本）在对应的特征向量上投影后的方差越大，样本点越离散，越容易区分，信息量也就越多"
   ]
  },
  {
   "cell_type": "code",
   "execution_count": 1,
   "metadata": {},
   "outputs": [],
   "source": [
    "import numpy as np\n",
    "import pandas as pd\n",
    "import matplotlib.pyplot as plt"
   ]
  },
  {
   "cell_type": "code",
   "execution_count": 2,
   "metadata": {},
   "outputs": [],
   "source": [
    "def meanX(dataX):\n",
    "    #axis=0表示按列来求均值\n",
    "    return np.mean(dataX, axis=0)"
   ]
  },
  {
   "cell_type": "code",
   "execution_count": 3,
   "metadata": {},
   "outputs": [],
   "source": [
    "\"\"\"\n",
    "参数：\n",
    "\t- XMat：传入的是一个numpy的矩阵格式，行表示样本数，列表示特征    \n",
    "\t- k：表示取前k个特征值对应的特征向量\n",
    "返回值：\n",
    "\t- finalData：参数一指的是返回的低维矩阵，对应于输入参数二\n",
    "\t- reconData：参数二对应的是移动坐标轴后的矩阵\n",
    "\"\"\"\n",
    "def pca(XMat, k):\n",
    "    average = meanX(XMat)\n",
    "    #shape()函数是查看矩阵的维度\n",
    "    m, n = np.shape(XMat)\n",
    "    data_adjust = []\n",
    "    #tile()函数就是将原矩阵横向、纵向地复制,下面的含义是将average矩阵纵向复制m个\n",
    "    avgs = np.tile(average, (m, 1))\n",
    "    data_adjust = XMat - avgs\n",
    "    covX = np.cov(data_adjust.T) #计算协方差矩阵\n",
    "    featValue, featVec = np.linalg.eig(covX) #求解协方差矩阵的特征值和特征向量\n",
    "    index = np.argsort(-featValue) #按照特征值从大到小排序\n",
    "    finalData = []\n",
    "    if k > n:\n",
    "        print(\"k must lower than feature number\")\n",
    "        return \n",
    "    else:\n",
    "        selectVec = np.matrix(featVec.T[index[:k]]) #特征向量是列向量,需要转置\n",
    "        finalData = data_adjust * selectVec.T\n",
    "        reconData = (finalData * selectVec) + average\n",
    "    return finalData, reconData"
   ]
  },
  {
   "cell_type": "code",
   "execution_count": 8,
   "metadata": {},
   "outputs": [],
   "source": [
    "def loaddata(datafile):\n",
    "    return np.array(pd.read_csv(datafile, sep='\\t', header=None)).astype(float)"
   ]
  },
  {
   "cell_type": "code",
   "execution_count": 12,
   "metadata": {},
   "outputs": [],
   "source": [
    "def plotBestFit(data1, data2):\n",
    "    dataArr1 = np.array(data1)\n",
    "    dataArr2 = np.array(data2)\n",
    "    m = np.shape(dataArr1)[0]\n",
    "    axis_x1 = []\n",
    "    axis_y1 = []\n",
    "    axis_x2 = []\n",
    "    axis_y2 = []\n",
    "    for i in range(m):\n",
    "        axis_x1.append(dataArr1[i,0])\n",
    "        axis_y1.append(dataArr1[i,1])\n",
    "        axis_x2.append(dataArr2[i,0])\n",
    "        axis_y2.append(dataArr2[i,1])\n",
    "    fig = plt.figure()\n",
    "    ax = fig.add_subplot(111)\n",
    "    ax.scatter(axis_x1, axis_y1, s=45, c='blue', marker='s')\n",
    "    ax.scatter(axis_x2, axis_y2, s=45, c='red')\n",
    "    plt.xlabel('x1');plt.ylabel('x2');\n",
    "    plt.savefig('out.png')\n",
    "    plt.show()"
   ]
  },
  {
   "cell_type": "code",
   "execution_count": 6,
   "metadata": {},
   "outputs": [],
   "source": [
    "def main():\n",
    "    datafile = 'data.txt'\n",
    "    XMat = loaddata(datafile)\n",
    "    k = 2\n",
    "    return pca(XMat, k)"
   ]
  },
  {
   "cell_type": "code",
   "execution_count": 13,
   "metadata": {},
   "outputs": [
    {
     "data": {
      "image/png": "[encoded data removed]",
      "text/plain": [
       "<Figure size 432x288 with 1 Axes>"
      ]
     },
     "metadata": {
      "needs_background": "light"
     },
     "output_type": "display_data"
    }
   ],
   "source": [
    "if __name__ == \"__main__\":\n",
    "    finalData, reconMat = main()\n",
    "    plotBestFit(finalData, reconMat)"
   ]
  }
 ],
 "metadata": {
  "kernelspec": {
   "display_name": "Python 3",
   "language": "python",
   "name": "python3"
  },
  "language_info": {
   "codemirror_mode": {
    "name": "ipython",
    "version": 3
   },
   "file_extension": ".py",
   "mimetype": "text/x-python",
   "name": "python",
   "nbconvert_exporter": "python",
   "pygments_lexer": "ipython3",
   "version": "3.7.6"
  }
 },
 "nbformat": 4,
 "nbformat_minor": 4
}
